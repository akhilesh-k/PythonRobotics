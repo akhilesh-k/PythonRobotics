{
 "cells": [
  {
   "cell_type": "markdown",
   "metadata": {},
   "source": [
    "## Robotics Tutorial\n",
    "**Get started with Python in Robotics**<br>\n",
    "Install all the required libraries and tools.\n",
    "```\n",
    "sudo apt-get install python3-pip\n",
    "sudo pip3 install jupyter\n",
    "sudo pip3 install numpy\n",
    "sudo pip3 install scipy\n",
    "sudo pip3 install matplotlib\n",
    "sudo pip3 install scikit-learn\n",
    "sudo pip3 install scikit-image\n",
    "\n",
    "```\n",
    "Once installed, lets get started with Python."
   ]
  },
  {
   "cell_type": "code",
   "execution_count": 4,
   "metadata": {},
   "outputs": [
    {
     "name": "stdout",
     "output_type": "stream",
     "text": [
      "Welcome to Robotics!\n"
     ]
    }
   ],
   "source": [
    "print(\"Welcome to Robotics!\")"
   ]
  },
  {
   "cell_type": "markdown",
   "metadata": {},
   "source": [
    "### Basic Operations in Python"
   ]
  },
  {
   "cell_type": "code",
   "execution_count": 5,
   "metadata": {},
   "outputs": [
    {
     "name": "stdout",
     "output_type": "stream",
     "text": [
      "a / b: 2.5\n",
      "float (a) / b: 2.5\n",
      "a / b: 2.5\n",
      "b: 8.0\n"
     ]
    }
   ],
   "source": [
    "#Assign integer values to a and b\n",
    "a = 5\n",
    "b = 2\n",
    "\n",
    "# Integer division \n",
    "a_devided_by_b = a / b\n",
    "print(\"a / b: {}\".format(a_devided_by_b))\n",
    "\n",
    "# Cast integer to float\n",
    "a_devided_by_b = float(a) / b\n",
    "print(\"float (a) / b: {}\".format(a_devided_by_b))\n",
    "\n",
    "# Or we can also define the variables as floating point instances by just setting\n",
    "b = 2.0\n",
    "a_devided_by_b = a / b\n",
    "print(\"a / b: {}\".format(a_devided_by_b))\n",
    "\n",
    "# b to the power of 3, re-assigned to b. (b = b^3)\n",
    "b **= 3\n",
    "print(\"b: {}\".format(b))"
   ]
  },
  {
   "cell_type": "markdown",
   "metadata": {},
   "source": [
    "Clone the repository \n",
    "```\n",
    "git clone https://github.com/akhilesh-k/PythonRobotics.git\n",
    "cd PythonRobotics\n",
    "jupyter-notebook\n",
    "\n",
    "```\n",
    "\n",
    "\n",
    "Your browser should start it in a new tab. Go to the Basic Exercise folder and open the notebook `introductory.ipynb`. You should now see this notebook in your browser."
   ]
  },
  {
   "cell_type": "markdown",
   "metadata": {},
   "source": [
    "### Loops\n",
    "### For Loop\n"
   ]
  },
  {
   "cell_type": "code",
   "execution_count": 6,
   "metadata": {
    "scrolled": true
   },
   "outputs": [
    {
     "name": "stdout",
     "output_type": "stream",
     "text": [
      "0\n",
      "1\n",
      "2\n",
      "3\n",
      "4\n"
     ]
    }
   ],
   "source": [
    "#Commenting\n",
    "'''\n",
    "This is Multi Line comment\n",
    "We have started using for loop in python\n",
    "Much like a psuedo code, we will print 5 numbers. It starts from 0 so will end at 4.\n",
    "'''\n",
    "for i in range(5):\n",
    "    print(i)\n"
   ]
  },
  {
   "cell_type": "markdown",
   "metadata": {},
   "source": [
    "### Data Structures\n",
    "**List**"
   ]
  },
  {
   "cell_type": "code",
   "execution_count": 3,
   "metadata": {},
   "outputs": [
    {
     "name": "stdout",
     "output_type": "stream",
     "text": [
      "['a', 4.4, 'b', 2.3, (0, 4.5)]\n",
      "length of mixed_list: 5\n",
      "mixed_list[3]: 2.3\n",
      "string_list[-1]: three\n",
      "float_list[0:3]: [1.3, 4.56, 1.999]\n"
     ]
    }
   ],
   "source": [
    "# Create lists\n",
    "string_list = ['one', 'two', 'three'] #list of strings\n",
    "float_list = [1.3, 4.56, 1.999, 30.1, 6.23, 900.1] \n",
    "mixed_list = []\n",
    "mixed_list.append('a')\n",
    "mixed_list += [4.4, 'b', 2.3, (0, 4.5)]  # (0, 4.5) is a tuple.\n",
    "print(mixed_list)\n",
    "print(\"length of mixed_list: {}\".format(len(mixed_list)))\n",
    "\n",
    "# Accessing list members\n",
    "print(\"mixed_list[3]: {}\".format(mixed_list[3]))\n",
    "print(\"string_list[-1]: {}\".format(string_list[-1]))\n",
    "print(\"float_list[0:3]: {}\".format(float_list[0:3]))"
   ]
  },
  {
   "cell_type": "markdown",
   "metadata": {},
   "source": [
    "### Dictionaries"
   ]
  },
  {
   "cell_type": "code",
   "execution_count": 4,
   "metadata": {},
   "outputs": [
    {
     "name": "stdout",
     "output_type": "stream",
     "text": [
      "{'one': 2, 'two': 5, 'list': ['a', 4.4, 'b', 2.3, (0, 4.5)]}\n",
      "keys: dict_keys(['one', 'two', 'list']), values: dict_values([2, 5, ['a', 4.4, 'b', 2.3, (0, 4.5)]])\n",
      "4.5\n"
     ]
    }
   ],
   "source": [
    "# Creating an empty dictionary\n",
    "dict = {}\n",
    "# Inserting key (one) value(2) pairs\n",
    "dict['one'] = 2\n",
    "dict[string_list[1]] = 5\n",
    "dict['list'] = mixed_list\n",
    "print(dict)\n",
    "print(\"keys: {}, values: {}\".format(dict.keys(), dict.values()))\n",
    "print(dict['list'][4][1])"
   ]
  },
  {
   "cell_type": "markdown",
   "metadata": {},
   "source": [
    "### Applying For Loops in List"
   ]
  },
  {
   "cell_type": "code",
   "execution_count": 5,
   "metadata": {},
   "outputs": [
    {
     "name": "stdout",
     "output_type": "stream",
     "text": [
      "one\n",
      "two\n",
      "three\n"
     ]
    }
   ],
   "source": [
    "for elem in string_list:\n",
    "    print(elem)"
   ]
  },
  {
   "cell_type": "code",
   "execution_count": 6,
   "metadata": {},
   "outputs": [
    {
     "name": "stdout",
     "output_type": "stream",
     "text": [
      "<zip object at 0x7f36c43c9308>\n",
      "\n",
      "string: one, integer: 1\n",
      "string: two, integer: 2\n",
      "string: three, integer: 3\n",
      "\n"
     ]
    }
   ],
   "source": [
    "int_list = range(1,4)\n",
    "zipped = zip(string_list, int_list)\n",
    "print(\"{}\\n\".format(zipped))\n",
    "for s, i in zipped:\n",
    "    print(\"string: {}, integer: {}\".format(s, i))\n",
    "print(\"\")    \n",
    "for idx, tup in enumerate(zipped):\n",
    "    print(\"idx: {}, tuple: {}\".format(idx, tup))\n"
   ]
  },
  {
   "cell_type": "markdown",
   "metadata": {},
   "source": [
    "### 'while' loops"
   ]
  },
  {
   "cell_type": "code",
   "execution_count": 7,
   "metadata": {},
   "outputs": [
    {
     "name": "stdout",
     "output_type": "stream",
     "text": [
      "elem 0: a is not a float, it's: <class 'str'>.\n",
      "elem 1: 4.4\n",
      "elem 2: b is not a float, it's: <class 'str'>.\n",
      "elem 3: 2.3\n",
      "elem 4: (0, 4.5) is not a float, it's: <class 'tuple'>.\n"
     ]
    }
   ],
   "source": [
    "i = 0\n",
    "while (True):\n",
    "    if type(mixed_list[i]) is float:\n",
    "        print(\"elem {}: {}\".format(i,mixed_list[i]))\n",
    "    else:\n",
    "        print(\"elem {}: {} is not a float, it's: {}.\".format(i, mixed_list[i], type(mixed_list[i])))\n",
    "    i += 1\n",
    "    if i >= len(mixed_list):\n",
    "        break"
   ]
  },
  {
   "cell_type": "code",
   "execution_count": 8,
   "metadata": {},
   "outputs": [
    {
     "name": "stdout",
     "output_type": "stream",
     "text": [
      "trying to divide 0/-2\n",
      "-0.0\n",
      "trying to divide 1/-1\n",
      "-1.0\n",
      "trying to divide 2/0\n",
      "Don't divide by zero!\n",
      "trying to divide 3/1\n",
      "3.0\n",
      "trying to divide 4/2\n",
      "2.0\n"
     ]
    }
   ],
   "source": [
    "a = range(5)\n",
    "b = range(-2,3)\n",
    "for a_elem, b_elem in zip(a,b):\n",
    "    print(\"trying to divide {}/{}\".format(a_elem, b_elem))\n",
    "    try:\n",
    "        print(a_elem / b_elem)\n",
    "    except:\n",
    "        print(\"Don't divide by zero!\")"
   ]
  },
  {
   "cell_type": "markdown",
   "metadata": {},
   "source": [
    "### Python inline for loops and clauses"
   ]
  },
  {
   "cell_type": "code",
   "execution_count": 9,
   "metadata": {},
   "outputs": [
    {
     "name": "stdout",
     "output_type": "stream",
     "text": [
      "a: range(1, 5)\n",
      "b: [4, 8]\n"
     ]
    }
   ],
   "source": [
    "a = range(1,5)\n",
    "print(\"a: {}\".format(a))\n",
    "b = [x*2 for x in a if x % 2 == 0]\n",
    "print(\"b: {}\".format(b))"
   ]
  },
  {
   "cell_type": "markdown",
   "metadata": {},
   "source": [
    "\n",
    "### Numpy\n",
    "\n",
    "**Numpy is used for vector and matrix operations and is similar in its usage to Matlab. Except for:**\n",
    "- indices starting at 0 and\n",
    "- selecting ranges, i.e. x[0:2], gives you [x[0], x[1]].\n",
    "\n",
    "### Matrices"
   ]
  },
  {
   "cell_type": "code",
   "execution_count": 10,
   "metadata": {},
   "outputs": [
    {
     "name": "stdout",
     "output_type": "stream",
     "text": [
      "[ 0.   0.4  0.8  1.2  1.6  2.   2.4  2.8]\n",
      "\n",
      "a shape: (8,)\n"
     ]
    }
   ],
   "source": [
    "import numpy as np\n",
    "\n",
    "a = np.arange(0, 3, 0.4)\n",
    "print(a)\n",
    "print(\"\\na shape: {}\".format(a.shape))\n"
   ]
  },
  {
   "cell_type": "code",
   "execution_count": 11,
   "metadata": {},
   "outputs": [
    {
     "name": "stdout",
     "output_type": "stream",
     "text": [
      "[[ 1.  1.  1.  1.  1.  1.  1.  1.]\n",
      " [ 1.  1.  1.  1.  1.  1.  1.  1.]\n",
      " [ 1.  1.  1.  1.  1.  1.  1.  1.]\n",
      " [ 1.  1.  1.  1.  1.  1.  1.  1.]]\n",
      "\n",
      "M shape: (4, 8)\n"
     ]
    }
   ],
   "source": [
    "M = np.ones([4, 8])\n",
    "print(M)\n",
    "print(\"\\nM shape: {}\".format(M.shape))"
   ]
  },
  {
   "cell_type": "markdown",
   "metadata": {},
   "source": [
    "### Matrix elementwise muliplication"
   ]
  },
  {
   "cell_type": "code",
   "execution_count": 12,
   "metadata": {},
   "outputs": [
    {
     "name": "stdout",
     "output_type": "stream",
     "text": [
      "Elementwise multiplication: \n",
      "[[ 0.   0.4  0.8  1.2  1.6  2.   2.4  2.8]\n",
      " [ 0.   0.4  0.8  1.2  1.6  2.   2.4  2.8]\n",
      " [ 0.   0.4  0.8  1.2  1.6  2.   2.4  2.8]\n",
      " [ 0.   0.4  0.8  1.2  1.6  2.   2.4  2.8]]\n",
      "Matrix multiplication: \n",
      "[ 11.2  11.2  11.2  11.2]\n"
     ]
    }
   ],
   "source": [
    "# Standard * operator conducts an elementwise multiplication, the same as np.multiply(...)\n",
    "elementmul_result = M * a\n",
    "print(\"Elementwise multiplication: \\n{}\".format(elementmul_result))\n",
    "# !!!! Matrix multiplication is np.dot(...) !!!!\n",
    "matmul_result = np.dot(M,a)\n",
    "print(\"Matrix multiplication: \\n{}\".format(matmul_result))"
   ]
  },
  {
   "cell_type": "code",
   "execution_count": 13,
   "metadata": {},
   "outputs": [
    {
     "name": "stdout",
     "output_type": "stream",
     "text": [
      "Shapes: Q: (2, 3) \t x: (1, 2), \t y: (1, 3)\n",
      "Result: [[126]]\n"
     ]
    }
   ],
   "source": [
    "Q = np.array([[1, 2, 3], [4, 5, 6]])\n",
    "x = np.array([[2, 2]])\n",
    "y = np.array([[3, 3, 3]])\n",
    "print(\"Shapes: Q: {} \\t x: {}, \\t y: {}\".format(Q.shape, x.shape, y.shape))\n",
    "result = np.dot( np.dot(x, Q), y.T)\n",
    "print(\"Result: {}\".format(result))"
   ]
  },
  {
   "cell_type": "markdown",
   "metadata": {},
   "source": [
    "### Invert matrices"
   ]
  },
  {
   "cell_type": "code",
   "execution_count": 14,
   "metadata": {},
   "outputs": [
    {
     "name": "stdout",
     "output_type": "stream",
     "text": [
      "D = \n",
      "[[1 0 0 0]\n",
      " [0 2 0 0]\n",
      " [0 0 3 0]\n",
      " [0 0 0 4]] \n",
      "D_inv = \n",
      "[[ 1.          0.          0.          0.        ]\n",
      " [ 0.          0.5         0.          0.        ]\n",
      " [ 0.          0.          0.33333333  0.        ]\n",
      " [ 0.          0.          0.          0.25      ]]\n"
     ]
    }
   ],
   "source": [
    "D = np.diag([1, 2, 3, 4])\n",
    "print(\"D = \\n{} \\nD_inv = \\n{}\".format(D, np.linalg.inv(D)))"
   ]
  },
  {
   "cell_type": "markdown",
   "metadata": {},
   "source": [
    "### Maxima / Argmax"
   ]
  },
  {
   "cell_type": "code",
   "execution_count": 15,
   "metadata": {},
   "outputs": [
    {
     "name": "stdout",
     "output_type": "stream",
     "text": [
      "Max: [1 2 3 4]\n",
      "Argmax: [0 1 2 3]\n"
     ]
    }
   ],
   "source": [
    "maxima = np.max(D, axis=1)\n",
    "print(\"Max: {}\".format(maxima))\n",
    "max_index = np.argmax(D, axis=1)\n",
    "print(\"Argmax: {}\".format(max_index))"
   ]
  },
  {
   "cell_type": "markdown",
   "metadata": {},
   "source": [
    "### Multi-dimensional indexing"
   ]
  },
  {
   "cell_type": "code",
   "execution_count": 16,
   "metadata": {},
   "outputs": [
    {
     "name": "stdout",
     "output_type": "stream",
     "text": [
      "[[ 4.  4.  4.  3.]\n",
      " [ 3.  1.  2.  4.]\n",
      " [ 2.  1.  1.  3.]]\n"
     ]
    }
   ],
   "source": [
    "random_int_matrix = np.zeros([3,4])\n",
    "\n",
    "for ix in range(random_int_matrix.shape[0]):\n",
    "    for iy in range(random_int_matrix.shape[1]):\n",
    "        random_int_matrix[ix, iy] = np.random.randint(0, 5)\n",
    "print(random_int_matrix)\n"
   ]
  },
  {
   "cell_type": "code",
   "execution_count": 17,
   "metadata": {},
   "outputs": [
    {
     "name": "stdout",
     "output_type": "stream",
     "text": [
      "[[ 4.  4.  3.]\n",
      " [ 1.  2.  4.]\n",
      " [ 1.  1.  3.]]\n"
     ]
    }
   ],
   "source": [
    "print(random_int_matrix[:,1:])"
   ]
  },
  {
   "cell_type": "code",
   "execution_count": 19,
   "metadata": {},
   "outputs": [
    {
     "name": "stdout",
     "output_type": "stream",
     "text": [
      "[ 4.  1.]\n"
     ]
    }
   ],
   "source": [
    "print(random_int_matrix[:-1, 1])"
   ]
  },
  {
   "cell_type": "markdown",
   "metadata": {},
   "source": [
    "### Reshape Numpy Array"
   ]
  },
  {
   "cell_type": "code",
   "execution_count": 20,
   "metadata": {},
   "outputs": [
    {
     "name": "stdout",
     "output_type": "stream",
     "text": [
      "a\n",
      " [[1 2]\n",
      " [3 4]]\n",
      "\n",
      "b\n",
      " [[5 6]\n",
      " [7 8]]\n",
      "\n",
      "c\n",
      " [[ 9 10]\n",
      " [11 12]]\n",
      "\n"
     ]
    }
   ],
   "source": [
    "a = np.array([[1,2], [3,4]])\n",
    "b = np.array([[5,6], [7,8]])\n",
    "c = np.array([[9,10], [11,12]])\n",
    "print(\"a\\n {}\\n\".format(a))\n",
    "print(\"b\\n {}\\n\".format(b))\n",
    "print(\"c\\n {}\\n\".format(c))"
   ]
  },
  {
   "cell_type": "code",
   "execution_count": 21,
   "metadata": {},
   "outputs": [
    {
     "name": "stdout",
     "output_type": "stream",
     "text": [
      "[[[ 1  2]\n",
      "  [ 3  4]]\n",
      "\n",
      " [[ 5  6]\n",
      "  [ 7  8]]\n",
      "\n",
      " [[ 9 10]\n",
      "  [11 12]]]\n",
      "\n",
      "tensor shape: (3, 2, 2)\n"
     ]
    }
   ],
   "source": [
    "tensor = np.array([a, b, c])\n",
    "print(tensor)\n",
    "print(\"\\ntensor shape: {}\".format(tensor.shape))"
   ]
  },
  {
   "cell_type": "code",
   "execution_count": 22,
   "metadata": {},
   "outputs": [
    {
     "name": "stdout",
     "output_type": "stream",
     "text": [
      "[ 1  2  3  4  5  6  7  8  9 10 11 12]\n"
     ]
    }
   ],
   "source": [
    "tensor_reshaped = np.reshape(tensor, [12])\n",
    "print(tensor_reshaped)"
   ]
  },
  {
   "cell_type": "markdown",
   "metadata": {},
   "source": [
    "\n",
    "### Functions\n",
    "\n",
    "**Functions can take any arbitrary amount of arguments and are defined the following way.**\n"
   ]
  },
  {
   "cell_type": "code",
   "execution_count": 23,
   "metadata": {},
   "outputs": [
    {
     "name": "stdout",
     "output_type": "stream",
     "text": [
      "addOne(1): 2\n",
      "\n",
      "multiply(3, 4): \t12\n",
      "foo(x=6, y=3):   \t15\n",
      "foo(y=6, x=2):   \t10\n",
      "mulitply(*xy_list):\t10.0\n"
     ]
    }
   ],
   "source": [
    "def addOne(x):\n",
    "    return x + 1\n",
    "\n",
    "print(\"addOne(1): {}\\n\".format(addOne(1)))\n",
    "\n",
    "def multiply(x, y):\n",
    "    return x * y\n",
    "\n",
    "def foo(x, y):\n",
    "    return 2 * x + y\n",
    "\n",
    "print(\"multiply(3, 4): \\t{}\".format(multiply(3, 4)))\n",
    "# Or you can specifically tell which arguments you want to set.\n",
    "print(\"foo(x=6, y=3):   \\t{}\".format(foo(x=6, y=3)))\n",
    "print(\"foo(y=6, x=2):   \\t{}\".format(foo(y=6, x=2)))\n",
    "# Or in python you can also do it the following way\n",
    "xy_list = [2.0, 5.0]\n",
    "print(\"mulitply(*xy_list):\\t{}\".format(multiply(*xy_list)))\n"
   ]
  },
  {
   "cell_type": "markdown",
   "metadata": {},
   "source": [
    "### Try, except"
   ]
  },
  {
   "cell_type": "code",
   "execution_count": 27,
   "metadata": {},
   "outputs": [
    {
     "name": "stdout",
     "output_type": "stream",
     "text": [
      "a\n",
      "Oops! Couldn't convert the string to an integer.\n"
     ]
    }
   ],
   "source": [
    "def intFromString(a_string):\n",
    "    try:\n",
    "        return int(a_string)\n",
    "    except ValueError:\n",
    "        print (\"Oops! Couldn't convert the string to an integer.\")\n",
    "        return None\n",
    "\n",
    "a = intFromString(4)\n",
    "if a:\n",
    "    print(\"a\")\n",
    "\n",
    "b = intFromString(\"hallo\")\n",
    "if b:\n",
    "    print(\"b\")"
   ]
  },
  {
   "cell_type": "markdown",
   "metadata": {},
   "source": [
    "### Plotting Data \n",
    "**Using Matplotlib**"
   ]
  },
  {
   "cell_type": "code",
   "execution_count": 28,
   "metadata": {},
   "outputs": [
    {
     "data": {
      "image/png": "[encoded data removed]",
      "text/plain": [
       "<matplotlib.figure.Figure at 0x7f369ef1b208>"
      ]
     },
     "metadata": {},
     "output_type": "display_data"
    }
   ],
   "source": [
    "import matplotlib.pyplot as plt\n",
    "plt.plot([1, 6, 3, 4])\n",
    "plt.ylabel('An arbitrary set of numbers')\n",
    "plt.show(block=False)"
   ]
  },
  {
   "cell_type": "markdown",
   "metadata": {},
   "source": [
    "**Or plotting x against y:**"
   ]
  },
  {
   "cell_type": "code",
   "execution_count": 29,
   "metadata": {},
   "outputs": [
    {
     "data": {
      "image/png": "[encoded data removed]",
      "text/plain": [
       "<matplotlib.figure.Figure at 0x7f3699e6ea20>"
      ]
     },
     "metadata": {},
     "output_type": "display_data"
    }
   ],
   "source": [
    "import numpy\n",
    "x = numpy.array([1,2,3,4])\n",
    "y = x**2\n",
    "plt.plot(x, y, 'ro')\n",
    "plt.axis([0, 6, 0, 20])\n",
    "plt.ylabel('$y = x^2$', fontsize=14)\n",
    "plt.xlabel('$x$', fontsize=14)\n",
    "plt.show(block=False)"
   ]
  },
  {
   "cell_type": "code",
   "execution_count": 30,
   "metadata": {},
   "outputs": [
    {
     "data": {
      "image/png": "[encoded data removed]",
      "text/plain": [
       "<matplotlib.figure.Figure at 0x7f3699a5cc18>"
      ]
     },
     "metadata": {},
     "output_type": "display_data"
    }
   ],
   "source": [
    "\n",
    "\n",
    "# Evenly sampled time from 0.0s to 5.0s at 200ms intervals.\n",
    "t = np.arange(0., 5., 0.2)\n",
    "\n",
    "# Red dashes, blue squares and green triangles\n",
    "[a,b,c] =plt.plot(t, t, 'r--', t, t**2, 'bs', t, t**3, 'g^')\n",
    "plt.legend([a,b,c], [\"$f(t)=t$\",\"$f(t)=t^2$\",\"$f(t)=t^3$\"], loc='best', fancybox=True, framealpha=0.5)\n",
    "plt.legend()\n",
    "plt.ylabel('$f(t)$')\n",
    "plt.xlabel('$t$')\n",
    "plt.show(block=False)\n",
    "\n"
   ]
  },
  {
   "cell_type": "markdown",
   "metadata": {},
   "source": [
    "### Classes"
   ]
  },
  {
   "cell_type": "code",
   "execution_count": 33,
   "metadata": {},
   "outputs": [
    {
     "name": "stdout",
     "output_type": "stream",
     "text": [
      "The shark is a fish and its habitat is water.\n",
      "The human is a mammal and its habitat is earth.\n",
      "The dolphin is a mammal and its habitat is water.\n"
     ]
    }
   ],
   "source": [
    "class Animal(object):\n",
    "\n",
    "    def __init__(self, name, animal_class, element):\n",
    "        self.name = name\n",
    "        self.animal_class = animal_class\n",
    "        self.element = element\n",
    "\n",
    "    def getClass(self):\n",
    "        return self.animal_class\n",
    "\n",
    "    def __str__(self):\n",
    "        return \"The {} is a {} and its habitat is {}.\".format(self.name, self.animal_class, self.element)\n",
    "    \n",
    "shark = Animal(\"shark\", \"fish\", \"water\")\n",
    "human = Animal(\"human\", \"mammal\", \"earth\")\n",
    "dolphin = Animal(\"dolphin\", \"mammal\", \"water\")\n",
    "\n",
    "print(shark)\n",
    "print(human)\n",
    "print(dolphin)"
   ]
  },
  {
   "cell_type": "markdown",
   "metadata": {},
   "source": [
    "### Class Inheritence"
   ]
  },
  {
   "cell_type": "code",
   "execution_count": 34,
   "metadata": {},
   "outputs": [
    {
     "name": "stdout",
     "output_type": "stream",
     "text": [
      "The class of a salmon is fish.\n",
      "The salmon is a fish and its habitat is water.\n"
     ]
    }
   ],
   "source": [
    "class Fish(Animal):\n",
    "    def __init__(self, name, element):\n",
    "        self.name = name\n",
    "        self.animal_class = \"fish\"\n",
    "        self.element = element\n",
    "\n",
    "salmon = Fish(\"salmon\", \"water\")\n",
    "print(\"The class of a {} is {}.\".format(salmon.name, salmon.getClass()))\n",
    "\n",
    "print(salmon)"
   ]
  },
  {
   "cell_type": "markdown",
   "metadata": {},
   "source": [
    "**Next Commits will come up with Data Structures in Python**"
   ]
  }
 ],
 "metadata": {
  "kernelspec": {
   "display_name": "Python 3",
   "language": "python",
   "name": "python3"
  },
  "language_info": {
   "codemirror_mode": {
    "name": "ipython",
    "version": 3
   },
   "file_extension": ".py",
   "mimetype": "text/x-python",
   "name": "python",
   "nbconvert_exporter": "python",
   "pygments_lexer": "ipython3",
   "version": "3.6.3"
  }
 },
 "nbformat": 4,
 "nbformat_minor": 2
}
